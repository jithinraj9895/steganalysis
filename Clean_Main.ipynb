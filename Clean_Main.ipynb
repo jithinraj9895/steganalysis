{
  "nbformat": 4,
  "nbformat_minor": 0,
  "metadata": {
    "colab": {
      "name": "Clean_Main.ipynb",
      "provenance": [],
      "collapsed_sections": [],
      "authorship_tag": "ABX9TyMzld+14cn7k84K1BtvjRgv",
      "include_colab_link": true
    },
    "kernelspec": {
      "name": "python3",
      "display_name": "Python 3"
    },
    "accelerator": "GPU"
  },
  "cells": [
    {
      "cell_type": "markdown",
      "metadata": {
        "id": "view-in-github",
        "colab_type": "text"
      },
      "source": [
        "<a href=\"https://colab.research.google.com/github/jithinraj9895/steganalysis/blob/main/Clean_Main.ipynb\" target=\"_parent\"><img src=\"https://colab.research.google.com/assets/colab-badge.svg\" alt=\"Open In Colab\"/></a>"
      ]
    },
    {
      "cell_type": "code",
      "metadata": {
        "colab": {
          "base_uri": "https://localhost:8080/"
        },
        "id": "vaZ5s4J-e-tC",
        "outputId": "a19090ee-a552-405f-fd7e-edcbd59ab366"
      },
      "source": [
        "from google.colab import drive\n",
        "drive.mount('/content/drive')"
      ],
      "execution_count": 87,
      "outputs": [
        {
          "output_type": "stream",
          "text": [
            "Drive already mounted at /content/drive; to attempt to forcibly remount, call drive.mount(\"/content/drive\", force_remount=True).\n"
          ],
          "name": "stdout"
        }
      ]
    },
    {
      "cell_type": "code",
      "metadata": {
        "id": "6T3HtXI0JxJC"
      },
      "source": [
        "   from torchvision.datasets import ImageFolder\n",
        "   from torchvision.transforms import ToTensor\n",
        "   import torchvision.transforms as transforms"
      ],
      "execution_count": 88,
      "outputs": []
    },
    {
      "cell_type": "code",
      "metadata": {
        "id": "MmdaV4_zKUMh"
      },
      "source": [
        "from torch.utils.data.sampler import SubsetRandomSampler\n",
        "from torch.utils.data.dataloader import DataLoader\n",
        "import torch"
      ],
      "execution_count": 89,
      "outputs": []
    },
    {
      "cell_type": "code",
      "metadata": {
        "id": "ef1fCcdBfOrP"
      },
      "source": [
        "import numpy as np\n",
        "import os\n",
        "import matplotlib.pyplot as plt\n",
        "import cv2\n",
        "import numpy as np\n",
        "import PIL as image\n",
        "import pickle as pl\n",
        "\n",
        "srm_dir = \"/content/drive/MyDrive\"\n",
        "SRM_npy = np.load(os.path.join(srm_dir,\"SRM_Kernels.npy\"))"
      ],
      "execution_count": 90,
      "outputs": []
    },
    {
      "cell_type": "code",
      "metadata": {
        "id": "XRV3meWgfREa"
      },
      "source": [
        "import torch.nn as nn\n",
        "import torch.nn.functional as F"
      ],
      "execution_count": 91,
      "outputs": []
    },
    {
      "cell_type": "code",
      "metadata": {
        "id": "RFnOgDElfhYS"
      },
      "source": [
        "def activation(x):\n",
        "  a = torch.ones(x.shape)\n",
        "  a = torch.mul(a, -3)\n",
        "  return torch.where(x > -3,x,a)\n",
        "\n",
        "\n",
        "class the_tlu(nn.Module):\n",
        "    def __init__(self):\n",
        "        super(the_tlu, self).__init__()\n",
        "        \n",
        "    def forward(self, x):\n",
        "        return activation(x)"
      ],
      "execution_count": 92,
      "outputs": []
    },
    {
      "cell_type": "code",
      "metadata": {
        "id": "h4kAMlksgM2F"
      },
      "source": [
        "import torch\n",
        "import torch.nn as nn\n",
        "from torch.optim.adamax import Adamax\n",
        "from torch.optim.adadelta import Adadelta\n",
        "import numpy as np\n",
        "import torch\n",
        "import torch.nn.functional as F\n",
        "from torch import nn\n",
        "from torch.nn import Parameter"
      ],
      "execution_count": 93,
      "outputs": []
    },
    {
      "cell_type": "code",
      "metadata": {
        "id": "-tgB-4SAhO52"
      },
      "source": [
        "\n",
        "\n",
        "class SRMConv2d(nn.Module):\n",
        "\n",
        "    def __init__(self, stride=1, padding=0):\n",
        "        super(SRMConv2d, self).__init__()\n",
        "        self.in_channels = 1\n",
        "        self.out_channels = 30\n",
        "        self.kernel_size = (5, 5)\n",
        "        if isinstance(stride, int):\n",
        "            self.stride = (stride, stride)\n",
        "        else:\n",
        "            self.stride = stride\n",
        "        if isinstance(padding, int):\n",
        "            self.padding = (padding, padding)\n",
        "        else:\n",
        "            self.padding = padding\n",
        "        self.dilation = (1, 1)\n",
        "        self.transpose = False\n",
        "        self.output_padding = (0,)\n",
        "        self.groups = 1\n",
        "        self.weight = Parameter(torch.Tensor(30, 1, 5, 5), requires_grad=True)\n",
        "        self.bias = Parameter(torch.Tensor(30), requires_grad=True)\n",
        "        self.reset_parameters()\n",
        "\n",
        "    def reset_parameters(self):\n",
        "        self.weight.data.numpy()[:] = SRM_npy\n",
        "        self.bias.data.zero_()\n",
        "\n",
        "    def forward(self, input):\n",
        "        return F.conv2d(input, self.weight, self.bias, self.stride, self.padding,\n",
        "                        self.dilation, self.groups)\n",
        "\n",
        "\n",
        "class BlockA(nn.Module):\n",
        "\n",
        "    def __init__(self, in_planes, out_planes, norm_layer=None,activation = nn.ReLU(inplace=True)):\n",
        "        super(BlockA, self).__init__()\n",
        "\n",
        "        if norm_layer is None:\n",
        "            norm_layer = nn.BatchNorm2d\n",
        "\n",
        "        self.conv1 = conv3x3(in_planes, out_planes)\n",
        "        self.bn1 = norm_layer(out_planes)\n",
        "        self.conv2 = conv3x3(out_planes, out_planes)\n",
        "        self.bn2 = norm_layer(out_planes)\n",
        "\n",
        "        self.relu = nn.ReLU(inplace=True)\n",
        "\n",
        "    def forward(self, x):\n",
        "        identity = x\n",
        "\n",
        "        out = self.conv1(x)\n",
        "        out = self.bn1(out)\n",
        "        out = self.relu(out)\n",
        "\n",
        "        out = self.conv2(out)\n",
        "        out = self.bn2(out)\n",
        "\n",
        "        out += identity\n",
        "        out = self.relu(out)\n",
        "\n",
        "        return out"
      ],
      "execution_count": 94,
      "outputs": []
    },
    {
      "cell_type": "code",
      "metadata": {
        "id": "XR-kU_0jj-fm"
      },
      "source": [
        "\n",
        "def accuracy(outputs, labels):\n",
        "    _, argmax = torch.max(outputs, 1)\n",
        "    return (labels == argmax.squeeze()).float().mean()\n",
        "\n",
        "\n",
        "def conv3x3(in_planes, out_planes, stride=1, groups=1, dilation=1):\n",
        "    return nn.Conv2d(in_planes, out_planes, kernel_size=3, stride=stride,\n",
        "                     padding=dilation, groups=groups, bias=False, dilation=dilation)\n",
        "\n",
        "\n",
        "def conv1x1(in_planes, out_planes, stride=1):\n",
        "    return nn.Conv2d(in_planes, out_planes, kernel_size=1, stride=stride, bias=False)\n",
        "\n"
      ],
      "execution_count": 95,
      "outputs": []
    },
    {
      "cell_type": "code",
      "metadata": {
        "id": "iymQw_QPj8M6"
      },
      "source": [
        "class BlockB(nn.Module):\n",
        "\n",
        "    def __init__(self, in_planes, out_planes, norm_layer=None):\n",
        "        super(BlockB, self).__init__()\n",
        "\n",
        "        if norm_layer is None:\n",
        "            norm_layer = nn.BatchNorm2d\n",
        "\n",
        "        self.conv1 = conv3x3(in_planes, out_planes, stride=2)\n",
        "        self.bn1 = norm_layer(out_planes)\n",
        "        self.conv2 = conv3x3(out_planes, out_planes)\n",
        "        self.bn2 = norm_layer(out_planes)\n",
        "        # self.pool = nn.AvgPool2d(3, stride=2, padding=1)\n",
        "\n",
        "        self.shortcut_conv = conv1x1(in_planes, out_planes, stride=2)\n",
        "        self.shortcut_bn = norm_layer(out_planes)\n",
        "\n",
        "        self.relu = nn.ReLU(inplace=True)\n",
        "\n",
        "    def forward(self, x):\n",
        "        identity = x\n",
        "\n",
        "        out = self.conv1(x)\n",
        "        out = self.bn1(out)\n",
        "        out = self.relu(out)\n",
        "\n",
        "        out = self.conv2(out)\n",
        "        out = self.bn2(out)\n",
        "        # out = self.pool(out)\n",
        "\n",
        "        identity = self.shortcut_conv(identity)\n",
        "        identity = self.shortcut_bn(identity)\n",
        "\n",
        "        out += identity\n",
        "        out = self.relu(out)\n",
        "\n",
        "        return out\n"
      ],
      "execution_count": 96,
      "outputs": []
    },
    {
      "cell_type": "code",
      "metadata": {
        "id": "syGiDmSgkECX"
      },
      "source": [
        "class KeNet(nn.Module):\n",
        "\n",
        "    def __init__(self, norm_layer=None, zero_init_residual=True, p=0.5):\n",
        "        super(KeNet, self).__init__()\n",
        "\n",
        "        self.zero_init_residual = zero_init_residual\n",
        "\n",
        "        if norm_layer is None:\n",
        "            norm_layer = nn.BatchNorm2d\n",
        "\n",
        "        self.srm = SRMConv2d(1, 0)\n",
        "        self.bn1 = norm_layer(30)\n",
        "\n",
        "        self.A1 = BlockA(30, 30, norm_layer=norm_layer)\n",
        "        self.A2 = BlockA(30, 30, norm_layer=norm_layer)\n",
        "        self.AA = BlockA(30, 30, norm_layer=norm_layer)\n",
        "\n",
        "        # self.B1 = BlockB(30, 30, norm_layer=norm_layer)\n",
        "        # self.B2 = BlockB(30, 64, norm_layer=norm_layer)\n",
        "\n",
        "        self.B3 = BlockB(30, 64, norm_layer=norm_layer)\n",
        "        self.A3 = BlockA(64, 64, norm_layer=norm_layer)\n",
        "\n",
        "        self.B4 = BlockB(64, 128, norm_layer=norm_layer)\n",
        "        self.A4 = BlockA(128, 128, norm_layer=norm_layer)\n",
        "\n",
        "        self.avgpool = nn.AdaptiveAvgPool2d((1, 1))\n",
        "        # self.bnfc = nn.BatchNorm1d(128)\n",
        "        self.relu = nn.ReLU(inplace=True)\n",
        "        # self.fcfusion = nn.Linear(128, 128) #4\n",
        "        self.fc = nn.Linear(128 * 4 + 1, 2)\n",
        "        self.dropout = nn.Dropout(p=p)\n",
        "\n",
        "        self.reset_parameters()\n",
        "\n",
        "    def reset_parameters(self):\n",
        "        for m in self.modules():\n",
        "            if isinstance(m, nn.Conv2d):\n",
        "                # nn.init.xavier_uniform_(m.weight)\n",
        "                # nn.init.constant_(m.bias, 0.2)\n",
        "                nn.init.kaiming_normal_(m.weight, mode='fan_out', nonlinearity='relu')\n",
        "            elif isinstance(m, nn.BatchNorm2d):\n",
        "                nn.init.constant_(m.weight, 1)\n",
        "                nn.init.constant_(m.bias, 0)\n",
        "            elif isinstance(m, nn.Linear):\n",
        "                nn.init.normal_(m.weight, std=0.01)\n",
        "\n",
        "        if self.zero_init_residual:\n",
        "            for m in self.modules():\n",
        "                if isinstance(m, (BlockA, BlockB)):\n",
        "                    nn.init.constant_(m.bn2.weight, 0)\n",
        "\n",
        "    def extract_feat(self, x):\n",
        "        x = x.float()\n",
        "        out = self.srm(x)\n",
        "        out = self.bn1(out)\n",
        "        out = self.relu(out)\n",
        "\n",
        "        out = self.A1(out)\n",
        "        out = self.A2(out)\n",
        "        out = self.AA(out)\n",
        "\n",
        "        # out = self.B1(out)\n",
        "        # out = self.B2(out)\n",
        "\n",
        "        out = self.B3(out)\n",
        "        out = self.A3(out)\n",
        "\n",
        "        out = self.B4(out)\n",
        "        out = self.A4(out)\n",
        "\n",
        "        out = self.avgpool(out)\n",
        "        out = out.view(out.size(0), out.size(1))\n",
        "\n",
        "        # out = self.relu(out)\n",
        "        # out = self.bnfc(out)\n",
        "\n",
        "        return out\n",
        "\n",
        "    def forward(self, *args):\n",
        "        ############# statistics fusion start #############\n",
        "        feats = torch.stack(\n",
        "            [self.extract_feat(subarea) for subarea in args], dim=0\n",
        "        )\n",
        "\n",
        "        euclidean_distance = F.pairwise_distance(feats[0], feats[1], eps=1e-6,\n",
        "                                                 keepdim=True)\n",
        "\n",
        "        if feats.shape[0] == 1:\n",
        "            final_feat = feats.squeeze(dim=0)\n",
        "        else:\n",
        "            # feats_sum = feats.sum(dim=0)\n",
        "            # feats_sub = feats[0] - feats[1]\n",
        "            feats_mean = feats.mean(dim=0)\n",
        "            feats_var = feats.var(dim=0)\n",
        "            feats_min, _ = feats.min(dim=0)\n",
        "            feats_max, _ = feats.max(dim=0)\n",
        "\n",
        "            '''feats_sum = feats.sum(dim=0)\n",
        "            feats_sub = abs(feats[0] - feats[1])\n",
        "            feats_prod = feats.prod(dim=0)\n",
        "            feats_max, _ = feats.max(dim=0)'''\n",
        "            \n",
        "            #final_feat = torch.cat(\n",
        "            #    [feats[0], feats[1], feats[0], feats[1]], dim=-1\n",
        "            #    #[euclidean_distance, feats_sum, feats_sub, feats_prod, feats_max], dim=-1\n",
        "            #)\n",
        "\n",
        "            final_feat = torch.cat(\n",
        "                [euclidean_distance, feats_mean, feats_var, feats_min, feats_max], dim=-1\n",
        "                #[euclidean_distance, feats_sum, feats_sub, feats_prod, feats_max], dim=-1\n",
        "            )\n",
        "\n",
        "        out = self.dropout(final_feat)\n",
        "        # out = self.fcfusion(out)\n",
        "        # out = self.relu(out)\n",
        "        out = self.fc(out)\n",
        "\n",
        "        return out, feats[0], feats[1]\n"
      ],
      "execution_count": 97,
      "outputs": []
    },
    {
      "cell_type": "code",
      "metadata": {
        "id": "75JIv1swkKYs"
      },
      "source": [
        "def preprocess_data(images, labels, random_crop, gpu):\n",
        "    # images of shape: NxCxHxW\n",
        "    if images.ndim == 5:  # 1xNxCxHxW\n",
        "        images = images.squeeze(0)\n",
        "        labels = labels.squeeze(0)\n",
        "    h, w = images.shape[-2:]\n",
        "\n",
        "    if random_crop:\n",
        "        ch = random.randint(h * 3 // 4, h)  # h // 2      #256\n",
        "        cw = random.randint(w * 3 // 4, w)  # square ch   #256\n",
        "\n",
        "        h0 = random.randint(0, h - ch)  # 128\n",
        "        w0 = random.randint(0, w - cw)  # 128\n",
        "    else:\n",
        "        ch, cw, h0, w0 = h, w, 0, 0\n",
        " \n",
        "    cw = cw & ~1\n",
        "    inputs = [\n",
        "                images[..., h0:h0 + ch, w0:w0 + cw // 2],\n",
        "                images[..., h0:h0 + ch, w0 + cw // 2:w0 + cw]\n",
        "        ]\n",
        "    if gpu:\n",
        "        inputs = [x.cuda() for x in inputs]\n",
        "        labels = labels.cuda()\n",
        "    return inputs, labels\n",
        "        \n",
        "    return inputs, labels"
      ],
      "execution_count": 98,
      "outputs": []
    },
    {
      "cell_type": "code",
      "metadata": {
        "id": "XGbJpr35kP9x"
      },
      "source": [
        "class ContrastiveLoss(nn.Module):\n",
        "\n",
        "    def __init__(self, margin=1.25):  # margin=2\n",
        "        super(ContrastiveLoss, self).__init__()\n",
        "        self.margin = margin\n",
        "\n",
        "    def forward(self, output1, output2, label):\n",
        "        label = label.to(torch.float32)\n",
        "        euclidean_distance = F.pairwise_distance(output1, output2)\n",
        "        loss_contrastive = torch.mean(\n",
        "            (1 - label) * torch.pow(euclidean_distance, 2) +\n",
        "            label * torch.pow(torch.clamp(self.margin - euclidean_distance, min=0.0), 2)\n",
        "        )\n",
        "\n",
        "        return loss_contrastive"
      ],
      "execution_count": 99,
      "outputs": []
    },
    {
      "cell_type": "code",
      "metadata": {
        "id": "LWrAjBzGnulQ"
      },
      "source": [
        "model = KeNet(norm_layer=None, zero_init_residual=True, p=0.5)"
      ],
      "execution_count": 100,
      "outputs": []
    },
    {
      "cell_type": "code",
      "metadata": {
        "id": "HCfXKC1qkSx6"
      },
      "source": [
        "criterion_1 = nn.CrossEntropyLoss()\n",
        "criterion_2 = ContrastiveLoss(margin=1)"
      ],
      "execution_count": 101,
      "outputs": []
    },
    {
      "cell_type": "code",
      "metadata": {
        "id": "BfLinZQImsQ5"
      },
      "source": [
        "# inputs , labels = preprocess_data(*data,False,gpu=True)\n",
        "# output, feat_0, feat_1 = model(*inputs)\n",
        "\n",
        "# print(output,feat_0,feat_1)\n",
        "# print(output.shape)\n",
        "# print(feat_0.shape)"
      ],
      "execution_count": null,
      "outputs": []
    },
    {
      "cell_type": "code",
      "metadata": {
        "id": "K5XVw46tVEgq"
      },
      "source": [
        "optimizer = Adamax(model.parameters(), lr=0.001, betas=(0.9, 0.999), eps=1e-08, weight_decay=5e-4)"
      ],
      "execution_count": 102,
      "outputs": []
    },
    {
      "cell_type": "code",
      "metadata": {
        "id": "Q9POVh9qM8YI"
      },
      "source": [
        "scheduler = torch.optim.lr_scheduler.ReduceLROnPlateau(optimizer, 'max', factor=0.3,\n",
        "                                                           patience=10, verbose=True, min_lr=0,\n",
        "                                                           eps=1e-08)"
      ],
      "execution_count": null,
      "outputs": []
    },
    {
      "cell_type": "code",
      "metadata": {
        "id": "Iq_wn4oBeUbX"
      },
      "source": [
        "#  VALIDATION AND TRAINING STARTS #"
      ],
      "execution_count": null,
      "outputs": []
    },
    {
      "cell_type": "code",
      "metadata": {
        "id": "S8XNYMUvTWtj"
      },
      "source": [
        "def set_random_seed(seed=None):\n",
        "    \"\"\"Sets random seed for reproducibility.\n",
        "\n",
        "    Args:\n",
        "        seed (int, optional): Random seed.\n",
        "    \"\"\"\n",
        "    if seed is None:\n",
        "        seed = (\n",
        "                os.getpid()\n",
        "                + int(datetime.now().strftime(\"%S%f\"))\n",
        "                + int.from_bytes(os.urandom(2), \"big\")\n",
        "        )\n",
        "        logger = logging.getLogger(__name__)\n",
        "        logger.info('Using a generated random seed {}'.format(seed))\n",
        "    random.seed(seed)\n",
        "    np.random.seed(seed)\n",
        "    torch.set_rng_state(torch.manual_seed(seed).get_state())\n",
        "\n",
        "\n",
        "def get_random_seed():\n",
        "    return np.random.randint(2 ** 31)"
      ],
      "execution_count": 103,
      "outputs": []
    },
    {
      "cell_type": "code",
      "metadata": {
        "id": "bx0HIDrzL5lU"
      },
      "source": [
        "import torchvision\n",
        "import itertools\n",
        "import logging\n",
        "import math\n",
        "\n",
        "\n",
        "from torch.utils.data import BatchSampler\n",
        "from torch.utils.data import DataLoader\n",
        "from torch.utils.data import Sampler\n",
        "from torch.utils.data import SequentialSampler\n",
        "\n",
        "\n",
        "\n",
        "\n",
        "\n",
        "\n",
        "class TrainingSampler(Sampler):\n",
        "\n",
        "    def __init__(self, size, seed=None, shuffle=True):\n",
        "        self._size = size\n",
        "        self._shuffle = shuffle\n",
        "\n",
        "        if seed is None:\n",
        "            seed = get_random_seed()\n",
        "        self._seed = seed\n",
        "\n",
        "    def __iter__(self):\n",
        "        yield from itertools.islice(self._infinite_indices(), 0, None, 1)\n",
        "\n",
        "    def _infinite_indices(self):\n",
        "        g = torch.Generator()\n",
        "        g.manual_seed(self._seed)\n",
        "        while True:\n",
        "            if self._shuffle:\n",
        "                yield from torch.randperm(self._size, generator=g)\n",
        "            else:\n",
        "                yield from torch.arange(self._size)\n",
        "\n",
        "\n",
        "class BalancedBatchSampler(BatchSampler):\n",
        "\n",
        "    def __init__(self, sampler, group_ids, batch_size):\n",
        "        \"\"\"\n",
        "        Args:\n",
        "            sampler (Sampler): Base sampler.\n",
        "            group_ids (list[int]): If the sampler produces indices in range [0, N),\n",
        "                `group_ids` must be a list of `N` ints which contains the group id of each\n",
        "                sample. The group ids must be a set of integers in [0, num_groups).\n",
        "            batch_size (int): Size of mini-batch.\n",
        "        \"\"\"\n",
        "        if not isinstance(sampler, Sampler):\n",
        "            raise ValueError(\"sampler should be an instance of torch.utils.data.Sampler, \"\n",
        "                             \"but got sampler={}\".format(sampler))\n",
        "\n",
        "        self._sampler = sampler\n",
        "        self._group_ids = np.asarray(group_ids)\n",
        "        assert self._group_ids.ndim == 1\n",
        "        self._batch_size = batch_size\n",
        "        groups = np.unique(self._group_ids).tolist()\n",
        "        assert batch_size % len(groups) == 0\n",
        "\n",
        "        # buffer the indices of each group until batch size is reached\n",
        "        self._buffer_per_group = {k: [] for k in groups}\n",
        "        self._group_size = batch_size // len(groups)\n",
        "\n",
        "    def __iter__(self):\n",
        "        for idx in self._sampler:\n",
        "            group_id = self._group_ids[idx]\n",
        "            self._buffer_per_group[group_id].append(idx)\n",
        "            if all(len(v) >= self._group_size for k, v in self._buffer_per_group.items()):\n",
        "                idxs = []\n",
        "                # Collect across all groups\n",
        "                for k, v in self._buffer_per_group.items():\n",
        "                    idxs.extend(v[:self._group_size])\n",
        "                    del v[:self._group_size]\n",
        "\n",
        "                idxs = np.random.permutation(idxs)\n",
        "                yield idxs\n",
        "\n",
        "    def __len__(self):\n",
        "        raise NotImplementedError(\"len() of GroupedBatchSampler is not well-defined.\")\n",
        "\n",
        "\n",
        "def build_train_loader(cover_dir, stego_dir, batch_size=32, num_workers=0):\n",
        "    transform = transforms.Compose([\n",
        "        RandomRot(),\n",
        "        RandomFlip(),\n",
        "        ToTensor(),\n",
        "    ])\n",
        "    dataset = CoverStegoDataset(cover_dir, stego_dir, transform)\n",
        "\n",
        "   # print(dataset.images)\n",
        "\n",
        "    size = len(dataset)\n",
        "\n",
        "    sampler = TrainingSampler(size)\n",
        "\n",
        "\n",
        "    batch_sampler = BalancedBatchSampler(sampler, dataset.labels, batch_size)\n",
        "    \n",
        "  # print(batch_sampler)\n",
        "    epoch_length = math.ceil(size / batch_size)\n",
        "\n",
        "\n",
        "    train_loader = DataLoader(\n",
        "        dataset,\n",
        "        batch_sampler=batch_sampler,\n",
        "        num_workers=num_workers,\n",
        "        worker_init_fn= worker_init_reset_seed(0)\n",
        "    )\n",
        "    return train_loader, epoch_length\n",
        "\n",
        "def worker_init_reset_seed(worker_id):\n",
        "    set_random_seed(np.random.randint(2 ** 31) + worker_id)"
      ],
      "execution_count": 155,
      "outputs": []
    },
    {
      "cell_type": "code",
      "metadata": {
        "id": "KK-DnUZ0UoMU"
      },
      "source": [
        "import numpy as np\n",
        "from torch.utils.data import Dataset\n",
        "from PIL import Image\n",
        "import cv2\n",
        "\n",
        "\n",
        "class CoverStegoDataset(Dataset):\n",
        "\n",
        "    def __init__(self, cover_dir, stego_dir, transform=None):\n",
        "        self._transform = transform\n",
        "\n",
        "        self.images, self.labels = self.get_items(cover_dir, stego_dir)\n",
        "\n",
        "    def __len__(self):\n",
        "        return len(self.images)\n",
        "\n",
        "    def __getitem__(self, idx):\n",
        "        image = np.array(Image.open(self.images[idx]))\n",
        "        image = np.expand_dims(image, 2)  # (H, W, C)\n",
        "        assert image.ndim == 3\n",
        "\n",
        "        sample = {\n",
        "            'image': image,\n",
        "            'label': self.labels[idx]\n",
        "        }\n",
        "\n",
        "        if self._transform:\n",
        "            sample = self._transform(sample)\n",
        "        return sample\n",
        "\n",
        "    @staticmethod\n",
        "    def get_items(cover_dir, stego_dir):\n",
        "        images, labels = [], []\n",
        "\n",
        "        cover_names = sorted(os.listdir(cover_dir))\n",
        "        if stego_dir is not None:\n",
        "            stego_names = sorted(os.listdir(stego_dir))\n",
        "            assert cover_names == stego_names\n",
        "\n",
        "        file_names = cover_names\n",
        "        if stego_dir is None:\n",
        "            dir_to_label = [(cover_dir, 0), ]\n",
        "        else:\n",
        "            dir_to_label = [(cover_dir, 0), (stego_dir, 1)]\n",
        "        for image_dir, label in dir_to_label:\n",
        "            for file_name in file_names:\n",
        "                image_path = os.path.join(image_dir, file_name)\n",
        "                if not os.path.isfile(image_path):\n",
        "                    raise FileNotFoundError('{} not exists'.format(image_path))\n",
        "                images.append(image_path)\n",
        "                labels.append(label)\n",
        "\n",
        "        return images, labels"
      ],
      "execution_count": 142,
      "outputs": []
    },
    {
      "cell_type": "code",
      "metadata": {
        "id": "j7xayQfnPoxb"
      },
      "source": [
        "import numpy as np\n",
        "import torch\n",
        "import random\n",
        "\n",
        "\n",
        "class RandomRot(object):\n",
        "\n",
        "    def __call__(self, sample):\n",
        "        rot = random.randint(0, 3)\n",
        "        return {\n",
        "            'image': np.rot90(sample['image'], rot, axes=[-3, -2]).copy(),\n",
        "            'label': sample['label'],\n",
        "        }\n",
        "\n",
        "\n",
        "class RandomFlip(object):\n",
        "\n",
        "    def __init__(self, p=0.5):\n",
        "        self._p = p\n",
        "\n",
        "    def __call__(self, sample):\n",
        "        if random.random() < self._p:\n",
        "            return {\n",
        "                'image': np.flip(sample['image'], axis=-2).copy(),\n",
        "                'label': sample['label'],\n",
        "            }\n",
        "        else:\n",
        "            return sample\n",
        "\n",
        "\n",
        "class ToTensor(object):\n",
        "\n",
        "    def __call__(self, sample):\n",
        "        image, label = sample['image'], sample['label']\n",
        "        if image.ndim == 3:  # HxWxC\n",
        "            image = image.transpose(2, 0, 1)\n",
        "        else:  # NxHxWxC\n",
        "            image = image.transpose(0, 3, 1, 2)\n",
        "        return {\n",
        "            'image': torch.from_numpy(image).type(torch.FloatTensor),\n",
        "            'label': torch.tensor(label).long()\n",
        "        }\n"
      ],
      "execution_count": 127,
      "outputs": []
    },
    {
      "cell_type": "code",
      "metadata": {
        "id": "ml7PWEMFP0b4"
      },
      "source": [
        "covr_dir = \"/content/drive/MyDrive/boss_256/256_cropped_train/cover\"\n",
        "steg_dir = \"/content/drive/MyDrive/boss_256/256_cropped_train/stego\"\n",
        "\n",
        "covr_img = \"/content/drive/MyDrive/boss_256/256_crop_test1/cover\"\n",
        "steg_img = \"/content/drive/MyDrive/boss_256/256_crop_test1/stego\"\n",
        "\n",
        "covr_img1 = \"/content/drive/MyDrive/boss_256/256_crop_test1/cover/40000.pgm\"\n",
        "steg_img1 = \"/content/drive/MyDrive/boss_256/256_crop_test1/stego/40000.pgm\"\n",
        "\n",
        "#http://www.lirmm.fr/~chaumont/SteganalysisWithDeepLearning.html\n",
        "#link for .4bpp suniward stego images boss base 256\n",
        "\n"
      ],
      "execution_count": 128,
      "outputs": []
    },
    {
      "cell_type": "code",
      "metadata": {
        "colab": {
          "base_uri": "https://localhost:8080/"
        },
        "id": "IanJ1HTywgj0",
        "outputId": "8e7c71e7-6a70-4ea9-efad-f03bd390c540"
      },
      "source": [
        "print(cv2.imread(covr_img1),\"\\n-----------------------------\\n\",cv2.imread(steg_img1))"
      ],
      "execution_count": 108,
      "outputs": [
        {
          "output_type": "stream",
          "text": [
            "[[[137 137 137]\n",
            "  [139 139 139]\n",
            "  [144 144 144]\n",
            "  ...\n",
            "  [117 117 117]\n",
            "  [115 115 115]\n",
            "  [ 99  99  99]]\n",
            "\n",
            " [[131 131 131]\n",
            "  [138 138 138]\n",
            "  [145 145 145]\n",
            "  ...\n",
            "  [129 129 129]\n",
            "  [129 129 129]\n",
            "  [113 113 113]]\n",
            "\n",
            " [[127 127 127]\n",
            "  [135 135 135]\n",
            "  [144 144 144]\n",
            "  ...\n",
            "  [139 139 139]\n",
            "  [133 133 133]\n",
            "  [115 115 115]]\n",
            "\n",
            " ...\n",
            "\n",
            " [[124 124 124]\n",
            "  [125 125 125]\n",
            "  [122 122 122]\n",
            "  ...\n",
            "  [137 137 137]\n",
            "  [136 136 136]\n",
            "  [131 131 131]]\n",
            "\n",
            " [[ 90  90  90]\n",
            "  [ 89  89  89]\n",
            "  [ 85  85  85]\n",
            "  ...\n",
            "  [134 134 134]\n",
            "  [133 133 133]\n",
            "  [128 128 128]]\n",
            "\n",
            " [[  0   0   0]\n",
            "  [  0   0   0]\n",
            "  [  0   0   0]\n",
            "  ...\n",
            "  [ 53  53  53]\n",
            "  [ 52  52  52]\n",
            "  [ 52  52  52]]] \n",
            "-----------------------------\n",
            " [[[137 137 137]\n",
            "  [139 139 139]\n",
            "  [144 144 144]\n",
            "  ...\n",
            "  [116 116 116]\n",
            "  [115 115 115]\n",
            "  [ 99  99  99]]\n",
            "\n",
            " [[131 131 131]\n",
            "  [138 138 138]\n",
            "  [145 145 145]\n",
            "  ...\n",
            "  [129 129 129]\n",
            "  [129 129 129]\n",
            "  [113 113 113]]\n",
            "\n",
            " [[127 127 127]\n",
            "  [135 135 135]\n",
            "  [144 144 144]\n",
            "  ...\n",
            "  [139 139 139]\n",
            "  [133 133 133]\n",
            "  [115 115 115]]\n",
            "\n",
            " ...\n",
            "\n",
            " [[124 124 124]\n",
            "  [125 125 125]\n",
            "  [122 122 122]\n",
            "  ...\n",
            "  [137 137 137]\n",
            "  [136 136 136]\n",
            "  [131 131 131]]\n",
            "\n",
            " [[ 90  90  90]\n",
            "  [ 89  89  89]\n",
            "  [ 85  85  85]\n",
            "  ...\n",
            "  [134 134 134]\n",
            "  [133 133 133]\n",
            "  [128 128 128]]\n",
            "\n",
            " [[  0   0   0]\n",
            "  [  0   0   0]\n",
            "  [  1   1   1]\n",
            "  ...\n",
            "  [ 53  53  53]\n",
            "  [ 52  52  52]\n",
            "  [ 52  52  52]]]\n"
          ],
          "name": "stdout"
        }
      ]
    },
    {
      "cell_type": "code",
      "metadata": {
        "id": "rsZc7hMUwrN8"
      },
      "source": [
        "# print(sorted(os.listdir(covr_dir)),\"==================\\n\",sorted(os.listdir(steg_dir)))"
      ],
      "execution_count": null,
      "outputs": []
    },
    {
      "cell_type": "code",
      "metadata": {
        "id": "a-h1TIR-Vgas"
      },
      "source": [
        "seed = 10\n",
        "set_random_seed(None if seed < 0 else seed)"
      ],
      "execution_count": 129,
      "outputs": []
    },
    {
      "cell_type": "code",
      "metadata": {
        "id": "r2ukSmf-VLdP"
      },
      "source": [
        "train_loader, epoch_length = build_train_loader(\n",
        "        covr_img, steg_img, batch_size=2,\n",
        "        num_workers = 0\n",
        "    )"
      ],
      "execution_count": 147,
      "outputs": []
    },
    {
      "cell_type": "code",
      "metadata": {
        "id": "C4XE95M1Wwiq"
      },
      "source": [
        "train_loader_iter = iter(train_loader)"
      ],
      "execution_count": 148,
      "outputs": []
    },
    {
      "cell_type": "code",
      "metadata": {
        "colab": {
          "base_uri": "https://localhost:8080/"
        },
        "id": "8JhFbo00tOiF",
        "outputId": "4a6ab2e8-0aa2-40db-dd02-ff1331e4f5a7"
      },
      "source": [
        "data = next(iter(train_loader_iter))\n",
        "img, label = data['image'],data['label']\n",
        "im , la = preprocess_data(img, label,False,gpu = False)\n",
        "\n",
        "out, ft1, ft2 = model(*im)\n",
        "print(ft1[1] , \"\\n================================\\n\",ft2[1])"
      ],
      "execution_count": 154,
      "outputs": [
        {
          "output_type": "stream",
          "text": [
            "tensor([0.2445, 0.3018, 0.2922, 0.2591, 0.2951, 0.2610, 0.3002, 0.2971, 0.2704,\n",
            "        0.3107, 0.2812, 0.2566, 0.2741, 0.2855, 0.2856, 0.2666, 0.2569, 0.2519,\n",
            "        0.2855, 0.2545, 0.2764, 0.3003, 0.2625, 0.2467, 0.2936, 0.2743, 0.2721,\n",
            "        0.2889, 0.3066, 0.2699, 0.2892, 0.2977, 0.2514, 0.2600, 0.2865, 0.2505,\n",
            "        0.2767, 0.3216, 0.2742, 0.2729, 0.2816, 0.2448, 0.3019, 0.2591, 0.2489,\n",
            "        0.2591, 0.2513, 0.2759, 0.3081, 0.3080, 0.2688, 0.2580, 0.2700, 0.2619,\n",
            "        0.2461, 0.2800, 0.2650, 0.2589, 0.3068, 0.3208, 0.2770, 0.2467, 0.2721,\n",
            "        0.2521, 0.2554, 0.2807, 0.2989, 0.2453, 0.3461, 0.2747, 0.2821, 0.3367,\n",
            "        0.2703, 0.2675, 0.2697, 0.3001, 0.3005, 0.2878, 0.2681, 0.2969, 0.2545,\n",
            "        0.3038, 0.3171, 0.2824, 0.2959, 0.2643, 0.2373, 0.2696, 0.2800, 0.2561,\n",
            "        0.2641, 0.2617, 0.3050, 0.2738, 0.3062, 0.2760, 0.2989, 0.2991, 0.3064,\n",
            "        0.3099, 0.2601, 0.2568, 0.2935, 0.2660, 0.3030, 0.2434, 0.2661, 0.2676,\n",
            "        0.2757, 0.2680, 0.2969, 0.3069, 0.2786, 0.2820, 0.2787, 0.2859, 0.2524,\n",
            "        0.3143, 0.2819, 0.2613, 0.3070, 0.3140, 0.2791, 0.2710, 0.2878, 0.2716,\n",
            "        0.2908, 0.2470], grad_fn=<SelectBackward>) \n",
            "================================\n",
            " tensor([0.2403, 0.2727, 0.2763, 0.2556, 0.2549, 0.2529, 0.2927, 0.2600, 0.2582,\n",
            "        0.2713, 0.2736, 0.2373, 0.2659, 0.2521, 0.2500, 0.2486, 0.2200, 0.2376,\n",
            "        0.2604, 0.2312, 0.2552, 0.2723, 0.2472, 0.2316, 0.2807, 0.2438, 0.2463,\n",
            "        0.2610, 0.2924, 0.2465, 0.2633, 0.3019, 0.2271, 0.2495, 0.2684, 0.2437,\n",
            "        0.2462, 0.3100, 0.2440, 0.2475, 0.2737, 0.2212, 0.2601, 0.2215, 0.2198,\n",
            "        0.2366, 0.2302, 0.2522, 0.2702, 0.2819, 0.2630, 0.2329, 0.2696, 0.2681,\n",
            "        0.2507, 0.2563, 0.2559, 0.2648, 0.2627, 0.2892, 0.2464, 0.2305, 0.2408,\n",
            "        0.2474, 0.2353, 0.2725, 0.2879, 0.2558, 0.3206, 0.2467, 0.2303, 0.3086,\n",
            "        0.2314, 0.2532, 0.2623, 0.2724, 0.2821, 0.2512, 0.2469, 0.2790, 0.2387,\n",
            "        0.2716, 0.3020, 0.2557, 0.2648, 0.2391, 0.2332, 0.2380, 0.2549, 0.2426,\n",
            "        0.2493, 0.2459, 0.2729, 0.2616, 0.2920, 0.2865, 0.2640, 0.2992, 0.2675,\n",
            "        0.2849, 0.2241, 0.2164, 0.2618, 0.2280, 0.2665, 0.2351, 0.2516, 0.2376,\n",
            "        0.2623, 0.2625, 0.2773, 0.2791, 0.2427, 0.2523, 0.2634, 0.2776, 0.2408,\n",
            "        0.3059, 0.2610, 0.2308, 0.3109, 0.2951, 0.2698, 0.2612, 0.2669, 0.2473,\n",
            "        0.2812, 0.2193], grad_fn=<SelectBackward>)\n"
          ],
          "name": "stdout"
        }
      ]
    },
    {
      "cell_type": "code",
      "metadata": {
        "colab": {
          "base_uri": "https://localhost:8080/"
        },
        "id": "MBPQJWtZtv-M",
        "outputId": "dd9905bc-f069-49be-ec6e-9ed7d4fc8dbb"
      },
      "source": [
        "print(label)\n",
        "print(img.shape)\n",
        "print(img[0],'\\n===========\\n',img[1])"
      ],
      "execution_count": 151,
      "outputs": [
        {
          "output_type": "stream",
          "text": [
            "tensor([1, 0])\n",
            "torch.Size([2, 1, 256, 256])\n",
            "tensor([[[137., 139., 144.,  ..., 116., 115.,  99.],\n",
            "         [131., 138., 145.,  ..., 129., 129., 113.],\n",
            "         [127., 135., 144.,  ..., 139., 133., 115.],\n",
            "         ...,\n",
            "         [124., 125., 122.,  ..., 137., 136., 131.],\n",
            "         [ 90.,  89.,  85.,  ..., 134., 133., 128.],\n",
            "         [  0.,   0.,   1.,  ...,  53.,  52.,  52.]]]) \n",
            "===========\n",
            " tensor([[[137., 139., 144.,  ..., 117., 115.,  99.],\n",
            "         [131., 138., 145.,  ..., 129., 129., 113.],\n",
            "         [127., 135., 144.,  ..., 139., 133., 115.],\n",
            "         ...,\n",
            "         [124., 125., 122.,  ..., 137., 136., 131.],\n",
            "         [ 90.,  89.,  85.,  ..., 134., 133., 128.],\n",
            "         [  0.,   0.,   0.,  ...,  53.,  52.,  52.]]])\n"
          ],
          "name": "stdout"
        }
      ]
    },
    {
      "cell_type": "code",
      "metadata": {
        "colab": {
          "base_uri": "https://localhost:8080/",
          "height": 574
        },
        "id": "mhdE52gqzuiX",
        "outputId": "d209ca25-c656-4dc9-9632-c41ac115461d"
      },
      "source": [
        "plt.imshow(img[0].view(256,256))\n",
        "plt.show()\n",
        "print(\"Stego\\n===============\\nCover\")\n",
        "plt.imshow(img[1].view(256,256))\n",
        "plt.show()"
      ],
      "execution_count": 152,
      "outputs": [
        {
          "output_type": "display_data",
          "data": {
            "image/png": "[encoded data removed]",
            "text/plain": [
              "<Figure size 432x288 with 1 Axes>"
            ]
          },
          "metadata": {
            "tags": [],
            "needs_background": "light"
          }
        },
        {
          "output_type": "stream",
          "text": [
            "Stego\n",
            "===============\n",
            "Cover\n"
          ],
          "name": "stdout"
        },
        {
          "output_type": "display_data",
          "data": {
            "image/png": "[encoded data removed]",
            "text/plain": [
              "<Figure size 432x288 with 1 Axes>"
            ]
          },
          "metadata": {
            "tags": [],
            "needs_background": "light"
          }
        }
      ]
    },
    {
      "cell_type": "code",
      "metadata": {
        "id": "yqNBuaut0xZ7"
      },
      "source": [
        "out = model(img)"
      ],
      "execution_count": 135,
      "outputs": []
    },
    {
      "cell_type": "code",
      "metadata": {
        "colab": {
          "base_uri": "https://localhost:8080/"
        },
        "id": "_1twkFsu18H0",
        "outputId": "34c39c9b-a825-46b9-8980-85ce34461bee"
      },
      "source": [
        "print(out.shape)"
      ],
      "execution_count": 136,
      "outputs": [
        {
          "output_type": "stream",
          "text": [
            "torch.Size([2, 30, 252, 252])\n"
          ],
          "name": "stdout"
        }
      ]
    },
    {
      "cell_type": "code",
      "metadata": {
        "colab": {
          "base_uri": "https://localhost:8080/"
        },
        "id": "fqyUA9Ix2PBt",
        "outputId": "96a69bb5-fc9b-4449-c54f-f1ad78fb2e19"
      },
      "source": [
        "print(out[0])"
      ],
      "execution_count": 137,
      "outputs": [
        {
          "output_type": "stream",
          "text": [
            "tensor([[[  1.,  -2.,   5.,  ...,   0.,  -5., -10.],\n",
            "         [  2.,  -1.,   0.,  ...,  12.,  17.,  18.],\n",
            "         [  3.,   1.,  -1.,  ...,   4.,   8.,  14.],\n",
            "         ...,\n",
            "         [ -3.,  -4.,   1.,  ...,  -3.,  -3.,  -1.],\n",
            "         [  0.,   5.,   8.,  ...,   2.,   2.,   2.],\n",
            "         [ -3.,   2.,   0.,  ...,   6.,   6.,   6.]],\n",
            "\n",
            "        [[  7.,  14.,  38.,  ...,   3., -14., -10.],\n",
            "         [ 11.,   8.,  18.,  ...,  20.,  13.,  12.],\n",
            "         [ 15.,   9.,   8.,  ...,   7.,   3.,  14.],\n",
            "         ...,\n",
            "         [ -3.,  -2.,  -2.,  ...,   2.,   3.,   3.],\n",
            "         [  1.,   2.,   5.,  ...,   7.,   6.,   3.],\n",
            "         [ -7.,  -4.,  -1.,  ...,  11.,  10.,   5.]],\n",
            "\n",
            "        [[  9.,   9.,  18.,  ...,   8.,  -4.,  -6.],\n",
            "         [ 12.,   8.,   9.,  ...,   3.,  -5.,   0.],\n",
            "         [ 14.,  10.,   8.,  ...,  -1., -11.,   1.],\n",
            "         ...,\n",
            "         [  1.,  -3.,  -3.,  ...,   5.,   4.,   1.],\n",
            "         [ -4.,  -6.,  -1.,  ...,   5.,   4.,  -1.],\n",
            "         [ -9.,  -4.,   1.,  ...,   5.,   4.,  -1.]],\n",
            "\n",
            "        ...,\n",
            "\n",
            "        [[ -6.,   0., -19.,  ..., -16., -11., -99.],\n",
            "         [-13.,  -9.,   3.,  ...,  30.,  56.,  36.],\n",
            "         [  4., -26.,   3.,  ..., -54., -44.,  75.],\n",
            "         ...,\n",
            "         [ 10., -29., -14.,  ...,  -4., -12.,   0.],\n",
            "         [ 50.,  38.,  51.,  ...,  -8.,  -9., -13.],\n",
            "         [-59., -12., -11.,  ...,  86.,  94.,  86.]],\n",
            "\n",
            "        [[ -2.,  -9.,  31.,  ..., -29.,  -8.,   1.],\n",
            "         [ -8., -10.,   9.,  ..., -35.,   5.,  14.],\n",
            "         [  8., -24.,  -9.,  ..., -59., -33.,  85.],\n",
            "         ...,\n",
            "         [  5.,  -9., -13.,  ...,  -7.,   1.,   3.],\n",
            "         [ 16., -28.,  16.,  ...,  11.,  -2.,  -9.],\n",
            "         [-26.,  20.,  10.,  ...,   3.,   5., -17.]],\n",
            "\n",
            "        [[  2., -13.,   1.,  ..., -78., -39., -80.],\n",
            "         [ -9.,   1.,  -7.,  ...,  58.,  15.,   6.],\n",
            "         [ -5.,  -9.,   3.,  ..., -27.,  36.,  66.],\n",
            "         ...,\n",
            "         [-13., -35.,  -8.,  ..., -20.,   0.,   6.],\n",
            "         [ 54.,  41.,  63.,  ...,   2., -12.,  -8.],\n",
            "         [-41.,  12., -17.,  ...,  85.,  93.,  81.]]],\n",
            "       grad_fn=<SelectBackward>)\n"
          ],
          "name": "stdout"
        }
      ]
    },
    {
      "cell_type": "code",
      "metadata": {
        "colab": {
          "base_uri": "https://localhost:8080/"
        },
        "id": "3cbu5BsX2Z29",
        "outputId": "8156a114-de62-42ca-da35-1466ed9b7a9f"
      },
      "source": [
        "print(out[1])"
      ],
      "execution_count": 138,
      "outputs": [
        {
          "output_type": "stream",
          "text": [
            "tensor([[[   1.,   -2.,    5.,  ...,    1.,   -5.,  -10.],\n",
            "         [   2.,    0.,    0.,  ...,   11.,   17.,   19.],\n",
            "         [   3.,    0.,    0.,  ...,    4.,    8.,   13.],\n",
            "         ...,\n",
            "         [  -3.,   -4.,    1.,  ...,   -3.,   -3.,   -1.],\n",
            "         [   0.,    5.,    8.,  ...,    2.,    2.,    2.],\n",
            "         [  -3.,    2.,    0.,  ...,    6.,    6.,    6.]],\n",
            "\n",
            "        [[   7.,   14.,   38.,  ...,    4.,  -14.,  -10.],\n",
            "         [  11.,    9.,   18.,  ...,   20.,   13.,   13.],\n",
            "         [  14.,    9.,    9.,  ...,    7.,    2.,   14.],\n",
            "         ...,\n",
            "         [  -3.,   -2.,   -2.,  ...,    2.,    3.,    3.],\n",
            "         [   1.,    2.,    5.,  ...,    7.,    6.,    3.],\n",
            "         [  -7.,   -4.,   -1.,  ...,   11.,   10.,    5.]],\n",
            "\n",
            "        [[   9.,    9.,   18.,  ...,    9.,   -4.,   -6.],\n",
            "         [  11.,    9.,    9.,  ...,    3.,   -6.,    1.],\n",
            "         [  14.,    9.,    9.,  ...,   -1.,  -11.,    1.],\n",
            "         ...,\n",
            "         [   1.,   -3.,   -3.,  ...,    5.,    4.,    1.],\n",
            "         [  -4.,   -6.,   -1.,  ...,    5.,    4.,   -1.],\n",
            "         [  -9.,   -4.,    1.,  ...,    5.,    4.,   -1.]],\n",
            "\n",
            "        ...,\n",
            "\n",
            "        [[   1.,  -10.,  -16.,  ...,   -5.,   -7., -105.],\n",
            "         [ -23.,    9.,   -5.,  ...,   24.,   48.,   48.],\n",
            "         [  12.,  -42.,   15.,  ...,  -54.,  -38.,   67.],\n",
            "         ...,\n",
            "         [  10.,  -29.,  -14.,  ...,   -4.,  -12.,    0.],\n",
            "         [  50.,   38.,   51.,  ...,   -8.,   -9.,  -13.],\n",
            "         [ -61.,  -12.,  -11.,  ...,   86.,   94.,   86.]],\n",
            "\n",
            "        [[   5.,  -19.,   39.,  ...,  -19.,  -10.,   -5.],\n",
            "         [ -18.,    8.,   -7.,  ...,  -33.,   -3.,   26.],\n",
            "         [  10.,  -32.,    3.,  ...,  -59.,  -33.,   85.],\n",
            "         ...,\n",
            "         [  -1.,   -7.,  -13.,  ...,   -7.,    1.,    3.],\n",
            "         [  24.,  -30.,   16.,  ...,   11.,   -2.,   -9.],\n",
            "         [ -28.,   22.,    9.,  ...,    3.,    5.,  -17.]],\n",
            "\n",
            "        [[   2.,  -21.,    9.,  ...,  -66.,  -47.,  -84.],\n",
            "         [  -9.,   13.,  -23.,  ...,   50.,   21.,   16.],\n",
            "         [  -5.,  -17.,   21.,  ...,  -25.,   34.,   59.],\n",
            "         ...,\n",
            "         [ -19.,  -33.,   -8.,  ...,  -20.,    0.,    6.],\n",
            "         [  62.,   39.,   63.,  ...,    2.,  -12.,   -8.],\n",
            "         [ -49.,   16.,  -18.,  ...,   85.,   93.,   81.]]],\n",
            "       grad_fn=<SelectBackward>)\n"
          ],
          "name": "stdout"
        }
      ]
    },
    {
      "cell_type": "code",
      "metadata": {
        "id": "5OhGiwv3I6Tc"
      },
      "source": [
        "def get_default_device():\n",
        "    \"\"\"Pick GPU if available, else CPU\"\"\"\n",
        "    if torch.cuda.is_available():\n",
        "        return torch.device('cuda')\n",
        "    else:\n",
        "        return torch.device('cpu')\n"
      ],
      "execution_count": null,
      "outputs": []
    },
    {
      "cell_type": "code",
      "metadata": {
        "colab": {
          "base_uri": "https://localhost:8080/"
        },
        "id": "Ah9WzsnbJ-37",
        "outputId": "393aa259-3d22-4b1e-9c04-27a86ea61548"
      },
      "source": [
        "device = get_default_device()\n",
        "device"
      ],
      "execution_count": null,
      "outputs": [
        {
          "output_type": "execute_result",
          "data": {
            "text/plain": [
              "device(type='cuda')"
            ]
          },
          "metadata": {
            "tags": []
          },
          "execution_count": 27
        }
      ]
    },
    {
      "cell_type": "code",
      "metadata": {
        "id": "uLjGIZhrRjgT"
      },
      "source": [
        "if device.type == \"cuda\":\n",
        "  model.cuda()\n",
        "  criterion_1.cuda()\n",
        "  criterion_2.cuda()\n",
        "\n",
        "log_interval = 10"
      ],
      "execution_count": null,
      "outputs": []
    },
    {
      "cell_type": "code",
      "metadata": {
        "id": "_cKIz_vxXHvz"
      },
      "source": [
        "def train(epoch):\n",
        "  model.train()\n",
        "  running_loss, running_accuracy = 0., 0.\n",
        "  for batch in range(epoch):\n",
        "    data = next(iter(train_loader_iter))\n",
        "    img, lab = data[\"image\"], data[\"label\"]\n",
        "    inputs , labels = preprocess_data(img, lab, False,gpu= True)\n",
        "    optimizer.zero_grad()\n",
        "    output, feat_0, feat_1 = model(*inputs)\n",
        "    loss = criterion_1(output, labels) + 0.1 * criterion_2(feat_0, feat_1, labels)\n",
        "\n",
        "\n",
        "    the_accuracy = accuracy(output, labels).item()\n",
        "  #  running_accuracy += the_accuracy\n",
        "  #  running_loss += loss.item()\n",
        "\n",
        "    loss.backward()\n",
        "    optimizer.step()\n",
        "    print('EPOCH :',batch,\"LOSS:\", loss.item(),'the_accuracy :',the_accuracy,'\\n')\n",
        "    model.train()\n"
      ],
      "execution_count": 143,
      "outputs": []
    },
    {
      "cell_type": "code",
      "metadata": {
        "id": "0gGd0KcAXUq6"
      },
      "source": [
        "def validate(epoch):\n",
        "  correct = 0\n",
        "  total = 0\n",
        "  with torch.no_grad():\n",
        "    model.eval()\n",
        "    for d in range(epoch):\n",
        "      data = next(iter(train_loader_iter))\n",
        "      image, lab = data[\"image\"], data[\"label\"]\n",
        "      i, l = preprocess_data(image, lab,False,gpu = True)\n",
        "      if epoch == 1:\n",
        "        print(lab)\n",
        "      output, feat0, feat1 = model(*i)\n",
        "      for idx, j in enumerate(output):\n",
        "        print(torch.argmax(j),\"--\",lab[idx])\n",
        "        if torch.argmax(j) == lab[idx]:\n",
        "          correct += 1\n",
        "        total +=1\n",
        "  \n",
        "  print(\"ACCURACY :\", correct/total,\"total :\",total, \"correct :\",correct )"
      ],
      "execution_count": null,
      "outputs": []
    },
    {
      "cell_type": "code",
      "metadata": {
        "id": "9fszWpUzio3H",
        "colab": {
          "base_uri": "https://localhost:8080/"
        },
        "outputId": "d5739f9c-c7a8-4469-d791-55a35ea7a6d3"
      },
      "source": [
        "train(30)"
      ],
      "execution_count": null,
      "outputs": [
        {
          "output_type": "stream",
          "text": [
            "EPOCH : 0 LOSS: 0.7630453109741211 the_accuracy : 0.4375 \n",
            "\n",
            "EPOCH : 1 LOSS: 0.7438607215881348 the_accuracy : 0.46875 \n",
            "\n",
            "EPOCH : 2 LOSS: 0.7605738043785095 the_accuracy : 0.53125 \n",
            "\n",
            "EPOCH : 3 LOSS: 0.7418804168701172 the_accuracy : 0.5 \n",
            "\n",
            "EPOCH : 4 LOSS: 0.7325146794319153 the_accuracy : 0.5 \n",
            "\n",
            "EPOCH : 5 LOSS: 0.7607302665710449 the_accuracy : 0.46875 \n",
            "\n",
            "EPOCH : 6 LOSS: 0.7288606762886047 the_accuracy : 0.4375 \n",
            "\n",
            "EPOCH : 7 LOSS: 0.7279033064842224 the_accuracy : 0.53125 \n",
            "\n",
            "EPOCH : 8 LOSS: 0.741156280040741 the_accuracy : 0.53125 \n",
            "\n",
            "EPOCH : 9 LOSS: 0.7501487731933594 the_accuracy : 0.5 \n",
            "\n",
            "EPOCH : 10 LOSS: 0.7096812725067139 the_accuracy : 0.46875 \n",
            "\n",
            "EPOCH : 11 LOSS: 0.740828812122345 the_accuracy : 0.59375 \n",
            "\n",
            "EPOCH : 12 LOSS: 0.7336735725402832 the_accuracy : 0.46875 \n",
            "\n",
            "EPOCH : 13 LOSS: 0.7430728673934937 the_accuracy : 0.3125 \n",
            "\n",
            "EPOCH : 14 LOSS: 0.7926653027534485 the_accuracy : 0.5625 \n",
            "\n",
            "EPOCH : 15 LOSS: 0.7334301471710205 the_accuracy : 0.34375 \n",
            "\n",
            "EPOCH : 16 LOSS: 0.7249271869659424 the_accuracy : 0.4375 \n",
            "\n",
            "EPOCH : 17 LOSS: 0.7335749268531799 the_accuracy : 0.53125 \n",
            "\n",
            "EPOCH : 18 LOSS: 0.7364775538444519 the_accuracy : 0.59375 \n",
            "\n",
            "EPOCH : 19 LOSS: 0.7318518161773682 the_accuracy : 0.46875 \n",
            "\n",
            "EPOCH : 20 LOSS: 0.7616672515869141 the_accuracy : 0.40625 \n",
            "\n",
            "EPOCH : 21 LOSS: 0.7624868750572205 the_accuracy : 0.46875 \n",
            "\n",
            "EPOCH : 22 LOSS: 0.7636019587516785 the_accuracy : 0.34375 \n",
            "\n",
            "EPOCH : 23 LOSS: 0.7264236807823181 the_accuracy : 0.4375 \n",
            "\n",
            "EPOCH : 24 LOSS: 0.7507266402244568 the_accuracy : 0.40625 \n",
            "\n",
            "EPOCH : 25 LOSS: 0.7671354413032532 the_accuracy : 0.375 \n",
            "\n",
            "EPOCH : 26 LOSS: 0.7227125763893127 the_accuracy : 0.625 \n",
            "\n",
            "EPOCH : 27 LOSS: 0.7243860960006714 the_accuracy : 0.59375 \n",
            "\n",
            "EPOCH : 28 LOSS: 0.745454728603363 the_accuracy : 0.4375 \n",
            "\n",
            "EPOCH : 29 LOSS: 0.7281505465507507 the_accuracy : 0.53125 \n",
            "\n"
          ],
          "name": "stdout"
        }
      ]
    },
    {
      "cell_type": "code",
      "metadata": {
        "id": "rGvtv_4w6wOB",
        "colab": {
          "base_uri": "https://localhost:8080/"
        },
        "outputId": "a14837fc-e1d3-46a2-a3b2-bb644d8ef6ee"
      },
      "source": [
        "validate(2)"
      ],
      "execution_count": null,
      "outputs": [
        {
          "output_type": "stream",
          "text": [
            "tensor(1, device='cuda:0') -- tensor(1)\n",
            "tensor(1, device='cuda:0') -- tensor(0)\n",
            "tensor(1, device='cuda:0') -- tensor(0)\n",
            "tensor(0, device='cuda:0') -- tensor(1)\n",
            "tensor(0, device='cuda:0') -- tensor(1)\n",
            "tensor(0, device='cuda:0') -- tensor(0)\n",
            "tensor(1, device='cuda:0') -- tensor(1)\n",
            "tensor(0, device='cuda:0') -- tensor(0)\n",
            "tensor(0, device='cuda:0') -- tensor(0)\n",
            "tensor(0, device='cuda:0') -- tensor(1)\n",
            "tensor(0, device='cuda:0') -- tensor(0)\n",
            "tensor(1, device='cuda:0') -- tensor(0)\n",
            "tensor(1, device='cuda:0') -- tensor(0)\n",
            "tensor(1, device='cuda:0') -- tensor(1)\n",
            "tensor(0, device='cuda:0') -- tensor(0)\n",
            "tensor(1, device='cuda:0') -- tensor(0)\n",
            "tensor(1, device='cuda:0') -- tensor(0)\n",
            "tensor(1, device='cuda:0') -- tensor(1)\n",
            "tensor(0, device='cuda:0') -- tensor(1)\n",
            "tensor(1, device='cuda:0') -- tensor(1)\n",
            "tensor(1, device='cuda:0') -- tensor(0)\n",
            "tensor(1, device='cuda:0') -- tensor(1)\n",
            "tensor(0, device='cuda:0') -- tensor(0)\n",
            "tensor(1, device='cuda:0') -- tensor(0)\n",
            "tensor(1, device='cuda:0') -- tensor(1)\n",
            "tensor(0, device='cuda:0') -- tensor(0)\n",
            "tensor(0, device='cuda:0') -- tensor(1)\n",
            "tensor(0, device='cuda:0') -- tensor(1)\n",
            "tensor(0, device='cuda:0') -- tensor(0)\n",
            "tensor(1, device='cuda:0') -- tensor(1)\n",
            "tensor(0, device='cuda:0') -- tensor(1)\n",
            "tensor(1, device='cuda:0') -- tensor(1)\n",
            "tensor(1, device='cuda:0') -- tensor(1)\n",
            "tensor(0, device='cuda:0') -- tensor(1)\n",
            "tensor(0, device='cuda:0') -- tensor(0)\n",
            "tensor(1, device='cuda:0') -- tensor(1)\n",
            "tensor(1, device='cuda:0') -- tensor(0)\n",
            "tensor(0, device='cuda:0') -- tensor(1)\n",
            "tensor(0, device='cuda:0') -- tensor(0)\n",
            "tensor(1, device='cuda:0') -- tensor(1)\n",
            "tensor(1, device='cuda:0') -- tensor(0)\n",
            "tensor(0, device='cuda:0') -- tensor(1)\n",
            "tensor(0, device='cuda:0') -- tensor(0)\n",
            "tensor(0, device='cuda:0') -- tensor(0)\n",
            "tensor(0, device='cuda:0') -- tensor(0)\n",
            "tensor(0, device='cuda:0') -- tensor(0)\n",
            "tensor(0, device='cuda:0') -- tensor(1)\n",
            "tensor(0, device='cuda:0') -- tensor(0)\n",
            "tensor(1, device='cuda:0') -- tensor(1)\n",
            "tensor(0, device='cuda:0') -- tensor(1)\n",
            "tensor(0, device='cuda:0') -- tensor(0)\n",
            "tensor(0, device='cuda:0') -- tensor(0)\n",
            "tensor(0, device='cuda:0') -- tensor(0)\n",
            "tensor(0, device='cuda:0') -- tensor(1)\n",
            "tensor(1, device='cuda:0') -- tensor(0)\n",
            "tensor(1, device='cuda:0') -- tensor(1)\n",
            "tensor(0, device='cuda:0') -- tensor(0)\n",
            "tensor(1, device='cuda:0') -- tensor(1)\n",
            "tensor(0, device='cuda:0') -- tensor(1)\n",
            "tensor(0, device='cuda:0') -- tensor(1)\n",
            "tensor(0, device='cuda:0') -- tensor(0)\n",
            "tensor(1, device='cuda:0') -- tensor(1)\n",
            "tensor(0, device='cuda:0') -- tensor(1)\n",
            "tensor(1, device='cuda:0') -- tensor(0)\n",
            "ACCURACY : 0.5625 total : 64 correct : 36\n"
          ],
          "name": "stdout"
        }
      ]
    }
  ]
}